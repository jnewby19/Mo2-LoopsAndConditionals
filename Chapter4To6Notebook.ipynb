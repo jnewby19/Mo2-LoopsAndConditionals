{
 "cells": [
  {
   "cell_type": "markdown",
   "id": "4b65a8a6",
   "metadata": {},
   "source": [
    "Chapter 4.1"
   ]
  },
  {
   "cell_type": "code",
   "execution_count": 1,
   "id": "9db6add6",
   "metadata": {},
   "outputs": [],
   "source": [
    "import random\n",
    "\n",
    "secret = random.randint(1,10)\n",
    "guess = random.randint(1,10)"
   ]
  },
  {
   "cell_type": "code",
   "execution_count": 3,
   "id": "5e6e0982",
   "metadata": {},
   "outputs": [
    {
     "name": "stdout",
     "output_type": "stream",
     "text": [
      "Guess value is =  5\n",
      "Secret value is =  9\n"
     ]
    }
   ],
   "source": [
    "#Print value of guess and secret\n",
    "print(\"Guess value is = \", guess)\n",
    "print(\"Secret value is = \", secret)"
   ]
  },
  {
   "cell_type": "code",
   "execution_count": 4,
   "id": "000eec4c",
   "metadata": {},
   "outputs": [
    {
     "name": "stdout",
     "output_type": "stream",
     "text": [
      "Too low!\n"
     ]
    }
   ],
   "source": [
    "#Write if statements\n",
    "if guess < secret:\n",
    "    print(\"Too low!\")\n",
    "\n",
    "elif guess > secret:\n",
    "    print(\"Too high!\")\n",
    "    \n",
    "else:\n",
    "    print(\"Just right!\")"
   ]
  },
  {
   "cell_type": "markdown",
   "id": "0ae1ab0b",
   "metadata": {},
   "source": [
    "Chapter 4.2"
   ]
  },
  {
   "cell_type": "code",
   "execution_count": 6,
   "id": "4187585d",
   "metadata": {},
   "outputs": [
    {
     "name": "stdout",
     "output_type": "stream",
     "text": [
      "Pea\n"
     ]
    }
   ],
   "source": [
    "small = True\n",
    "green = True\n",
    "if small:\n",
    "    if green:\n",
    "        print(\"Pea\")\n",
    "    else:\n",
    "        print(\"Cherry\")\n",
    "else:\n",
    "    if green:\n",
    "        print(\"Watermelon\")\n",
    "    else:\n",
    "        print(\"Pumpkin\")"
   ]
  },
  {
   "cell_type": "markdown",
   "id": "4e7d156f",
   "metadata": {},
   "source": [
    "Chapter 6.1"
   ]
  },
  {
   "cell_type": "code",
   "execution_count": 7,
   "id": "ad7a618c",
   "metadata": {},
   "outputs": [
    {
     "name": "stdout",
     "output_type": "stream",
     "text": [
      "3\n",
      "2\n",
      "1\n",
      "0\n"
     ]
    }
   ],
   "source": [
    "for value in [3, 2, 1, 0]:\n",
    "    print(value)"
   ]
  },
  {
   "cell_type": "markdown",
   "id": "02a95e99",
   "metadata": {},
   "source": [
    "Chapter 6.2"
   ]
  },
  {
   "cell_type": "code",
   "execution_count": 9,
   "id": "8509408f",
   "metadata": {},
   "outputs": [
    {
     "name": "stdout",
     "output_type": "stream",
     "text": [
      "too low\n",
      "too low\n",
      "too low\n",
      "too low\n",
      "too low\n",
      "too low\n",
      "found it!\n"
     ]
    }
   ],
   "source": [
    "guess_me = 7\n",
    "number = 1\n",
    "while True:\n",
    "    if number < guess_me:\n",
    "        print('too low')\n",
    "    elif number == guess_me:\n",
    "        print('found it!')\n",
    "        break\n",
    "    elif number > guess_me:\n",
    "        print('oops')\n",
    "        break\n",
    "    number += 1"
   ]
  },
  {
   "cell_type": "markdown",
   "id": "54070777",
   "metadata": {},
   "source": [
    "Chapter 6.3"
   ]
  },
  {
   "cell_type": "code",
   "execution_count": 10,
   "id": "7887d3fc",
   "metadata": {},
   "outputs": [
    {
     "name": "stdout",
     "output_type": "stream",
     "text": [
      "Too low!\n",
      "Too low!\n",
      "Too low!\n",
      "Too low!\n",
      "Too low!\n",
      "Found it!\n"
     ]
    }
   ],
   "source": [
    "guess_me = 5\n",
    "for number in range(10):\n",
    "    if number < guess_me:\n",
    "        print(\"Too low!\")\n",
    "    elif number == guess_me:\n",
    "        print(\"Found it!\")\n",
    "        break\n",
    "    else:\n",
    "        print(\"oops\")\n",
    "        break"
   ]
  }
 ],
 "metadata": {
  "kernelspec": {
   "display_name": "Python 3 (ipykernel)",
   "language": "python",
   "name": "python3"
  },
  "language_info": {
   "codemirror_mode": {
    "name": "ipython",
    "version": 3
   },
   "file_extension": ".py",
   "mimetype": "text/x-python",
   "name": "python",
   "nbconvert_exporter": "python",
   "pygments_lexer": "ipython3",
   "version": "3.9.13"
  }
 },
 "nbformat": 4,
 "nbformat_minor": 5
}
